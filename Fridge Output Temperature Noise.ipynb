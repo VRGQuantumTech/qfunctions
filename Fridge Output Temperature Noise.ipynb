{
 "cells": [
  {
   "cell_type": "code",
   "execution_count": 2,
   "id": "a1c13455",
   "metadata": {},
   "outputs": [],
   "source": [
    "import numpy as np"
   ]
  },
  {
   "cell_type": "markdown",
   "id": "794016c1",
   "metadata": {},
   "source": [
    "### Amplifiers:\n",
    "\n",
    "Each amplifier has a gain (Gi) and a temperature noise (T_Ni) (which can be calculated from the noise figure (dB)).\n",
    "In the following dictionary each key is a different stage of the output line starting from the chip.\n",
    "Each key has a list in which the first value is the gain of the amplifier (Gi) and the second one the temperature noise of\n",
    "the amplifier (you can check the temperature noise or the noise factor in the datasheets).\n",
    "\n",
    "The chip also has a temperature noise! This temperature noise is calculated with the jupyter notebook for the input line with\n",
    "attenuators."
   ]
  },
  {
   "cell_type": "code",
   "execution_count": 3,
   "id": "380c022c",
   "metadata": {},
   "outputs": [],
   "source": [
    "def temp_noise(NF):\n",
    "    # Use this function when the datasheet species the noise factor instead the temperature noise.\n",
    "    return 300*(10**(NF/10)-1)\n",
    "\n",
    "Amp = {'Chip': [0, 0.030], '4K':[30,temp_noise(0.1)], 'RT1':[35, 57], 'RT2': [30, 57]}"
   ]
  },
  {
   "cell_type": "markdown",
   "id": "f7531647",
   "metadata": {},
   "source": [
    "Now, we use the recursive expression\n",
    "\n",
    "$T_{N,i} = T_{N,i-1} + \\frac{T_{amp, i}}{\\prod_{j=1}^{i-1}G_j}$\n",
    "\n",
    "Where $T_{N,i}$ is the noise temperature at the output of the $i$ amplifier, $T_{amp,i}$ is the temperature noise of this amplifier, and $G_j$ is the gain of each previous amplifier.\n",
    "\n",
    "This means that the noise introduced by the $i$ amplifier is supressed by all of the previous amplifiers. For example, if we have three amplifiers in the output line:\n",
    "\n",
    "$T_{final} = T_{chip} + T_{amp,1} + \\frac{T_{amp,2}}{G_1} + \\frac{T_{amp,3}}{G_1 \\cdot G_2}$\n",
    "\n",
    "with:\n",
    "\n",
    "$G_i = 10^{\\frac{amp(dB)}{10}}$."
   ]
  },
  {
   "cell_type": "code",
   "execution_count": 19,
   "id": "1b950cb8",
   "metadata": {},
   "outputs": [
    {
     "name": "stdout",
     "output_type": "stream",
     "text": [
      "At the output of Chip stage the temperature noise is 0.030 K\n",
      "At the output of 4K stage the temperature noise is 7.018 K\n",
      "At the output of RT1 stage the temperature noise is 7.075 K\n",
      "At the output of RT2 stage the temperature noise is 7.075 K\n",
      "\u001b[1mOutput temperature noise is 7.075 K\u001b[0m\n"
     ]
    }
   ],
   "source": [
    "G = [1.0]\n",
    "for key in Amp.keys():\n",
    "    G.append(10**(Amp[key][0]/10))\n",
    "\n",
    "T_N = []\n",
    "j = 1\n",
    "for key in Amp.keys():      \n",
    "    T_N.append(Amp[key][1]/np.prod(G[:j]))\n",
    "    T_noise = np.sum(T_N[:j])\n",
    "    message = 'At the output of %s stage the temperature noise is %.3f K'%(key, T_noise) \n",
    "    print(message)\n",
    "    j+=1\n",
    "\n",
    "message = 'Output temperature noise is %.3f K'%(T_noise)\n",
    "print('\\033[1m' + message + '\\033[0m')"
   ]
  },
  {
   "cell_type": "markdown",
   "id": "7d94ebe7",
   "metadata": {},
   "source": [
    "### Conclussion:\n",
    "\n",
    "You can check that the temperature noise at the output is decided by the first amplifier in the chain. The amplifier with lowest noise figure (lowest temperature noise) must be the closest one to the chip. Don't forget that this amplifier also must have the highest gain as possible to supress the noise comming from the second amplifier.\n",
    "\n",
    "Also, we can calculate the power noise per unit of bandwith $\\left( \\frac{dBm}{Hz} \\right)$ comming from the output line:"
   ]
  },
  {
   "cell_type": "code",
   "execution_count": 24,
   "id": "bd9e4528",
   "metadata": {},
   "outputs": [
    {
     "name": "stdout",
     "output_type": "stream",
     "text": [
      "\u001b[1mThe power noise is -220.10 dBm/Hz\u001b[0m\n"
     ]
    }
   ],
   "source": [
    "kB = 1.38065e-23 # J/K\n",
    "Power_noise = 10*np.log10(kB*T_noise)\n",
    "print('\\033[1m' + 'The power noise is %.2f dBm/Hz'%(Power_noise) + '\\033[0m')"
   ]
  },
  {
   "cell_type": "markdown",
   "id": "83e0793b",
   "metadata": {},
   "source": [
    "You can use this value to compare the noise floor of your system with the noise floor of the equipment. In this way you know which part of the setup is limiting the experiment."
   ]
  },
  {
   "cell_type": "code",
   "execution_count": null,
   "id": "f30c96f8",
   "metadata": {},
   "outputs": [],
   "source": []
  }
 ],
 "metadata": {
  "kernelspec": {
   "display_name": "Python 3 (ipykernel)",
   "language": "python",
   "name": "python3"
  },
  "language_info": {
   "codemirror_mode": {
    "name": "ipython",
    "version": 3
   },
   "file_extension": ".py",
   "mimetype": "text/x-python",
   "name": "python",
   "nbconvert_exporter": "python",
   "pygments_lexer": "ipython3",
   "version": "3.9.12"
  }
 },
 "nbformat": 4,
 "nbformat_minor": 5
}
