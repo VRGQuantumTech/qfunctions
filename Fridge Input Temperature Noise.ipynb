{
 "cells": [
  {
   "cell_type": "code",
   "execution_count": 1,
   "id": "e94e8898",
   "metadata": {},
   "outputs": [],
   "source": [
    "import numpy as np"
   ]
  },
  {
   "cell_type": "code",
   "execution_count": 4,
   "id": "e82f0223",
   "metadata": {},
   "outputs": [],
   "source": [
    "# Attenuators:\n",
    "# Each entry in the dictionary is a list. First value is the attenuation of the attenuator (in dB), second value in the list\n",
    "# is the temperature of the attenuator (in K). If the cryostat has no cold plate between still and mixing chamber just put the\n",
    "# attenuation to zero. Zero attenuation won't affect the final result.\n",
    "\n",
    "Att = {'50K': [-10, 50], '4K':[-10,4], 'STILL':[-20,0.9], 'COLD PLATE': [0, 0.5], 'MXC':[-20,0.02]}\n"
   ]
  },
  {
   "cell_type": "markdown",
   "id": "dc3256ed",
   "metadata": {},
   "source": [
    "## Explanation\n",
    "\n",
    "To calculate the noise power comming out an attenuator ($P_{out}$), first think on an attenuator at temperature $T_{att}$ in thermal equilibrium with the source of noise ($P_{out}$), so they are at the same temperature. The attenuator has an attenuation $att$ (dB), so the linear factor of attenuation is $L_{att} = 10^{\\frac{att(dB)}{10}}$.\n",
    "\n",
    "The noise power comming out from the attenuator has two components, $P_s$, which is attenuated by a factor $L_{att}$ and $P_{att}$:\n",
    "\n",
    "$P_{out} = \\frac{P_s}{L_{att}} + P_{att}$        (1)\n",
    "\n",
    "Since we are considering thermal equilibrium, the source and the load are also at the same temperature:\n",
    "\n",
    "$P_{s} = kT_{att}$         (2) \n",
    "\n",
    "$P_{out} = kT_{att}$         (3)\n",
    "\n",
    "So we subtitue these in equation 1 and we have:\n",
    "\n",
    "$kT_{att} = \\frac{kT_{att}}{L_{att}} + P_{att}   \\Rightarrow  P_{att} = \\bigl( 1 - \\frac{1}{L_{att}} \\bigr)kT_{att}$        (4)\n",
    "\n",
    "We can then define the effective temperature of the attenuator as:\n",
    "\n",
    "$P_{att} = \\frac{1}{L_{att}} \\cdot k T_{eff} \\Rightarrow T_{eff} = T_{att} (L_{att} - 1)$         (5)\n",
    "\n",
    "This is the effective noise power introduced by the attenuator referred to the source noise power.\n",
    "\n",
    "Now, consider a system in which the source has a different temperature than the attenuator ($T_s$ and $T_{att}$ respectively). We know, the output power noise can be written as:\n",
    "\n",
    "$P_{out} = \\frac{1}{L_{att}} \\bigl( kT_s + kT_{eff} \\bigr)$          (6)\n",
    "\n",
    "From this expression, considering that $P_{out} = kT_{out}$, we have:\n",
    "\n",
    "$ T_{out} = \\frac{T_s}{L_{att}} + \\bigl(1 - \\frac{1}{L_{att}} \\bigr) \\cdot T_{att} $        (7)\n",
    "\n",
    "Now, we use this expression recursively for our attenuation chain:\n",
    "\n",
    "$T_{N,i} = \\frac{T_{N,i-1}}{L_i} + \\left(1-\\frac{1}{L_i}\\right)T_i$\n",
    "\n",
    "Where $T_{N,i}$ is the noattenuatorise temperature at the output of this the $i$ attenuator, $T_{N,i-1}$ is the temperature noise at the otuput of the previous  and $L_i$ is the 'Gain' of the $i$ attenuator: \n",
    "\n",
    "$L_i = 10^{att(dB)/10}$.\n",
    "\n",
    "[1] Photon-detecting superconducting resonators, R. Barends (2009)\n",
    "    https://repository.tudelft.nl/islandora/object/uuid%3A574944e6-c3ce-4c86-a511-a88385b22379\n",
    "    \n",
    "[2] https://reeve.com/Documents/Noise/Reeve_Noise_3_AttenAmpNoise.pdf"
   ]
  },
  {
   "cell_type": "code",
   "execution_count": 5,
   "id": "dfd49982",
   "metadata": {},
   "outputs": [
    {
     "name": "stdout",
     "output_type": "stream",
     "text": [
      "dict_keys(['50K', '4K', 'STILL', 'COLD PLATE', 'MXC'])\n"
     ]
    }
   ],
   "source": [
    "print(Att.keys())"
   ]
  },
  {
   "cell_type": "code",
   "execution_count": 6,
   "id": "f239b7ff",
   "metadata": {},
   "outputs": [
    {
     "name": "stdout",
     "output_type": "stream",
     "text": [
      "At 50K stage the temperature noise is 75.000 K\n",
      "At 4K stage the temperature noise is 11.100 K\n",
      "At STILL stage the temperature noise is 1.002 K\n",
      "At COLD PLATE stage the temperature noise is 1.002 K\n",
      "At MXC stage the temperature noise is 0.030 K\n",
      "\u001b[1mInput temperature noise at the chip is 0.030 K\u001b[0m\n"
     ]
    }
   ],
   "source": [
    "T_in = 300\n",
    "T_N = [T_in]\n",
    "\n",
    "for key in Att.keys():\n",
    "    T_N.append((T_in/(10**(-1*Att[key][0]/10)) + (1 - 1/(10**(-1*Att[key][0]/10)))*Att[key][1]))\n",
    "    T_in = T_N[len(T_N)-1]\n",
    "    message = 'At %s stage the temperature noise is %.3f K'%(key, T_in) \n",
    "    print(message)\n",
    "\n",
    "message = 'Input temperature noise at the chip is %.3f K'%(T_in)\n",
    "print('\\033[1m' + message + '\\033[0m')"
   ]
  },
  {
   "cell_type": "markdown",
   "id": "8d3ceb93",
   "metadata": {},
   "source": []
  }
 ],
 "metadata": {
  "kernelspec": {
   "display_name": "Python 3 (ipykernel)",
   "language": "python",
   "name": "python3"
  },
  "language_info": {
   "codemirror_mode": {
    "name": "ipython",
    "version": 3
   },
   "file_extension": ".py",
   "mimetype": "text/x-python",
   "name": "python",
   "nbconvert_exporter": "python",
   "pygments_lexer": "ipython3",
   "version": "3.9.12"
  }
 },
 "nbformat": 4,
 "nbformat_minor": 5
}
